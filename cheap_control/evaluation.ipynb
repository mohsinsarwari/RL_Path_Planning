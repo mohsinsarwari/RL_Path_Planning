{
 "cells": [
  {
   "cell_type": "markdown",
   "id": "3aafb353",
   "metadata": {},
   "source": [
    "# Step 1: Set up Parameters"
   ]
  },
  {
   "cell_type": "code",
   "execution_count": 1,
   "id": "48cb91ed",
   "metadata": {},
   "outputs": [],
   "source": [
    "%matplotlib inline\n",
    "from dotmap import DotMap\n",
    "from envs import *\n",
    "import torch as th\n",
    "import numpy as np\n",
    "import os\n",
    "import datetime\n",
    "import run_learning\n",
    "import run_eval\n",
    "\n",
    "from stable_baselines3 import SAC\n",
    "from stable_baselines3.sac import MlpPolicy\n",
    "from stable_baselines3.common.vec_env import DummyVecEnv\n",
    "from stable_baselines3.common.logger import configure\n",
    "from stable_baselines3.common.callbacks import EvalCallback\n",
    "from stable_baselines3.common.callbacks import CheckpointCallback"
   ]
  },
  {
   "cell_type": "code",
   "execution_count": 4,
   "id": "e6152d14",
   "metadata": {},
   "outputs": [],
   "source": [
    "params = DotMap()\n",
    "\n",
    "dt = 0.01\n",
    "total_time = 5\n",
    "\n",
    "#General Params\n",
    "params.runner = \"Mohsin\" #just your first name\n",
    "params.device = \"Hybrid Robotics Server\"\n",
    "params.eval_freq = 2500\n",
    "params.save_freq = 50000\n",
    "params.timesteps = 500000\n",
    "params.gamma = 0.98\n",
    "params.policy_kwargs = dict(activation_fn=th.nn.Tanh)\n",
    "params.eps = 0.1\n",
    "params.num_trials = 1\n",
    "\n",
    "#Env Specific Params\n",
    "params.envs.pendulum.env = Pendulum.Pendulum() #base env for simulation\n",
    "params.envs.pendulum.eval_env = Pendulum.Pendulum() #extra env for eval callback\n",
    "params.envs.pendulum.run = True #if you want run_learning to train on this env\n",
    "params.envs.pendulum.m = 1 #mass of pendulum\n",
    "params.envs.pendulum.l = 1 #half the length of pendulum (length to com)\n",
    "params.envs.pendulum.g = 1 #gravity\n",
    "params.envs.pendulum.lam = 0.005 #damping coefficient\n",
    "params.envs.pendulum.eps = params.eps\n",
    "params.envs.pendulum.max_input = 10\n",
    "params.envs.pendulum.min_input = -10\n",
    "params.envs.pendulum.init_low = [-1, -0.5]\n",
    "params.envs.pendulum.init_high = [1, 0.5]\n",
    "params.envs.pendulum.dt = dt\n",
    "params.envs.pendulum.total_time = total_time\n",
    "\n",
    "params.envs.quadrotor.env = Quadrotor.Quadrotor()\n",
    "params.envs.quadrotor.eval_env = Quadrotor.Quadrotor()\n",
    "params.envs.quadrotor.run = False\n",
    "params.envs.quadrotor.dt = dt\n",
    "params.envs.quadrotor.total_time = total_time\n",
    "params.envs.quadrotor.i_xx = 1\n",
    "params.envs.quadrotor.m = 1\n",
    "params.envs.quadrotor.g = 1\n",
    "params.envs.quadrotor.max_input = np.array([10, 3])\n",
    "params.envs.quadrotor.min_input = np.array([5, -3])\n",
    "params.envs.quadrotor.init_low = -1\n",
    "params.envs.quadrotor.init_high = 1\n",
    "\n",
    "params.envs.pvtol.env = Pvtol.Pvtol()\n",
    "params.envs.pvtol.eval_env = Pvtol.Pvtol()\n",
    "params.envs.pvtol.run = False\n",
    "params.envs.pvtol.dt = dt\n",
    "params.envs.pvtol.total_time = total_time\n",
    "params.envs.pvtol.eps = 0.01\n",
    "params.envs.pvtol.m = 1\n",
    "params.envs.pvtol.g = 1\n",
    "params.envs.pvtol.max_input = np.array([4, 1])\n",
    "params.envs.pvtol.min_input = np.array([1, -1])\n",
    "params.envs.pvtol.init_low = -1\n",
    "params.envs.pvtol.init_high = 1\n",
    "\n",
    "params.envs.manipulator.env = Manipulator.Manipulator()\n",
    "params.envs.manipulator.eval_env = Manipulator.Manipulator()\n",
    "params.envs.manipulator.run = False\n",
    "params.envs.manipulator.dt = dt\n",
    "params.envs.manipulator.total_time = total_time\n",
    "params.envs.manipulator.eps = 0.01\n",
    "params.envs.manipulator.k1 = 1\n",
    "params.envs.manipulator.k2 = 1\n",
    "params.envs.manipulator.k3 = 1\n",
    "params.envs.manipulator.max_input = 4\n",
    "params.envs.manipulator.min_input = -4\n",
    "params.envs.manipulator.init_low = -1\n",
    "params.envs.manipulator.init_high = 1\n",
    "\n",
    "params.envs.cartpole.env = Cartpole.Cartpole()\n",
    "params.envs.cartpole.eval_env = Cartpole.Cartpole()\n",
    "params.envs.cartpole.run = False\n",
    "params.envs.cartpole.dt = dt\n",
    "params.envs.cartpole.total_time = total_time\n",
    "params.envs.cartpole.eps = 0.01\n",
    "params.envs.cartpole.g = 1\n",
    "params.envs.cartpole.mp = 0.5\n",
    "params.envs.cartpole.mc = 1\n",
    "params.envs.cartpole.l = 0.5  # actually half the pole's length\n",
    "params.envs.cartpole.f = 5 # force\n",
    "params.envs.cartpole.lam = 0.01\n",
    "params.envs.cartpole.max_input = 2\n",
    "params.envs.cartpole.min_input = -2\n",
    "params.envs.cartpole.init_low = -1\n",
    "params.envs.cartpole.init_high = 1"
   ]
  },
  {
   "cell_type": "markdown",
   "id": "e8df547a",
   "metadata": {},
   "source": [
    "# Step 2: Run Learning"
   ]
  },
  {
   "cell_type": "code",
   "execution_count": null,
   "id": "b83c0ab5",
   "metadata": {},
   "outputs": [],
   "source": [
    "run_learning(params)"
   ]
  },
  {
   "cell_type": "markdown",
   "id": "8b0e6253",
   "metadata": {},
   "source": [
    "# Step 3: Evaluate Models"
   ]
  },
  {
   "cell_type": "code",
   "execution_count": null,
   "id": "f4cd0841",
   "metadata": {},
   "outputs": [],
   "source": [
    "def find_folders(params, check):\n",
    "    folders=[]\n",
    "    for folder in os.listdir(\"./Runs\"):\n",
    "        folder_param_path = os.path.join(os.path.join(\"./Runs\", folder), \"params.pkl\")\n",
    "        if os.path.exists(folder_param_path):\n",
    "            with open(os.path.join(os.path.join(\"./Runs\", folder), \"params.pkl\"), 'rb') as f:\n",
    "                params = pickle.load(f)\n",
    "            if check(params):\n",
    "                folders.append(folder)\n",
    "                \n",
    "    if not folders:\n",
    "        print(\"No folders matching\")\n",
    "    return folders"
   ]
  },
  {
   "cell_type": "code",
   "execution_count": null,
   "id": "621d271b",
   "metadata": {},
   "outputs": [],
   "source": [
    "results = evaluate(path)"
   ]
  },
  {
   "cell_type": "code",
   "execution_count": null,
   "id": "2c595680",
   "metadata": {},
   "outputs": [],
   "source": [
    "plt.plot(results[\"actions\"])\n",
    "plt.show()"
   ]
  }
 ],
 "metadata": {
  "kernelspec": {
   "display_name": "Python 3 (ipykernel)",
   "language": "python",
   "name": "python3"
  },
  "language_info": {
   "codemirror_mode": {
    "name": "ipython",
    "version": 3
   },
   "file_extension": ".py",
   "mimetype": "text/x-python",
   "name": "python",
   "nbconvert_exporter": "python",
   "pygments_lexer": "ipython3",
   "version": "3.8.10"
  }
 },
 "nbformat": 4,
 "nbformat_minor": 5
}

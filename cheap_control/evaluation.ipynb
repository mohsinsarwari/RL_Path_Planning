{
 "cells": [
  {
   "cell_type": "markdown",
   "id": "3aafb353",
   "metadata": {},
   "source": [
    "# Evaulation\n",
    "\n",
    "This notebook is setup to help evaluate the runs"
   ]
  },
  {
   "cell_type": "code",
   "execution_count": 1,
   "id": "48cb91ed",
   "metadata": {},
   "outputs": [],
   "source": [
    "%matplotlib inline\n",
    "from dotmap import DotMap\n",
    "from envs import *\n",
    "import os\n",
    "import dill as pickle\n",
    "import run_learning\n",
    "import numpy as np\n",
    "import run_eval\n",
    "import run_render\n",
    "from matplotlib import pyplot as plt\n",
    "plt.rcParams['figure.figsize'] = [20, 10]\n",
    "from stable_baselines3 import SAC"
   ]
  },
  {
   "cell_type": "markdown",
   "id": "8b0e6253",
   "metadata": {},
   "source": [
    "# Find Desired Runs"
   ]
  },
  {
   "cell_type": "code",
   "execution_count": 2,
   "id": "9b1ea636",
   "metadata": {},
   "outputs": [],
   "source": [
    "def look_through_folders():\n",
    "    for folder in os.listdir(\"./Runs\"):\n",
    "        folder_param_path = os.path.join(os.path.join(\"./Runs\", folder), \"params.pkl\")\n",
    "        if os.path.exists(folder_param_path):\n",
    "            with open(os.path.join(os.path.join(\"./Runs\", folder), \"params.pkl\"), 'rb') as f:\n",
    "                params = pickle.load(f)\n",
    "            print(\"Eps: \", str(params.eps), \", Gamma: \", str(params.gamma), \", LearningRate: \", str(params.learning_rate))\n",
    "            print(\"Eval_Freq: \", str(params.init_state))\n",
    "#look_through_folders()"
   ]
  },
  {
   "cell_type": "code",
   "execution_count": 3,
   "id": "1a45d601",
   "metadata": {
    "scrolled": true
   },
   "outputs": [
    {
     "data": {
      "text/plain": [
       "{8: ['03_19_2022_043427_Mohsin', '03_19_2022_061022_Mohsin'],\n",
       " 6: ['03_18_2022_234749_Mohsin', '03_18_2022_221305_Mohsin'],\n",
       " 9: ['03_19_2022_092134_Mohsin', '03_19_2022_074600_Mohsin'],\n",
       " 3: ['03_18_2022_123559_Mohsin', '03_18_2022_141140_Mohsin'],\n",
       " 10: ['03_19_2022_123229_Mohsin', '03_19_2022_105730_Mohsin'],\n",
       " 7: ['03_19_2022_025744_Mohsin', '03_19_2022_012341_Mohsin'],\n",
       " 2: ['03_18_2022_092553_Mohsin', '03_18_2022_110053_Mohsin'],\n",
       " 4: ['03_18_2022_172512_Mohsin', '03_18_2022_154757_Mohsin'],\n",
       " 1: ['03_18_2022_075045_Mohsin', '03_18_2022_061505_Mohsin'],\n",
       " 11: ['03_19_2022_154352_Mohsin', '03_19_2022_140802_Mohsin'],\n",
       " 0: ['03_18_2022_030224_Mohsin', '03_18_2022_043952_Mohsin'],\n",
       " 5: ['03_18_2022_190118_Mohsin', '03_18_2022_203751_Mohsin']}"
      ]
     },
     "execution_count": 3,
     "metadata": {},
     "output_type": "execute_result"
    }
   ],
   "source": [
    "def check(params):\n",
    "    match = bool(1\n",
    "        and params.id == 13\n",
    "        #and params.finished == True\n",
    "        #and params.envs.manipulator.cost_func == 3\n",
    "        )\n",
    "        \n",
    "\n",
    "    return match\n",
    "\n",
    "def filt(check):\n",
    "    matches = dict()\n",
    "    for folder in os.listdir(\"./Runs\"):\n",
    "        folder_param_path = os.path.join(os.path.join(\"./Runs\", folder), \"params.pkl\")\n",
    "        if os.path.exists(folder_param_path):\n",
    "            with open(os.path.join(os.path.join(\"./Runs\", folder), \"params.pkl\"), 'rb') as f:\n",
    "                params = pickle.load(f)\n",
    "            if check(params):\n",
    "                if params.trial_id in matches.keys():\n",
    "                    matches[params.trial_id].append(folder)\n",
    "                else:   \n",
    "                    matches[params.trial_id] = [folder]\n",
    "    return matches\n",
    "filt(check)"
   ]
  },
  {
   "cell_type": "markdown",
   "id": "f0f655a4",
   "metadata": {},
   "source": [
    "# Evaluate Desired Runs"
   ]
  },
  {
   "cell_type": "markdown",
   "id": "870bc6bc",
   "metadata": {},
   "source": [
    "### Manipulator"
   ]
  },
  {
   "cell_type": "code",
   "execution_count": null,
   "id": "fa598bca",
   "metadata": {
    "scrolled": false
   },
   "outputs": [],
   "source": [
    "label = \"eps\"\n",
    "\n",
    "def plot_eval():\n",
    "    plt.figure()\n",
    "    trial_id = 0\n",
    "    matches = filt(check)\n",
    "    for combo in matches.values():\n",
    "        rew = []\n",
    "        with open(os.path.join(os.path.join(\"./Runs\", combo[0]), \"params.pkl\"), 'rb') as f:\n",
    "            params = pickle.load(f) \n",
    "            \n",
    "        plot = True #plot only one\n",
    "        for folder in combo:\n",
    "            results = run_eval.evaluate(folder, env='manipulator', init=[0, 0, 0, 0])\n",
    "            tb = results[\"manipulator\"][\"mean_reward\"]\n",
    "            tb_times = tb[0]\n",
    "            tb_rew = [a[0] for a in tb[1]]\n",
    "            \n",
    "            rew.append(tb_rew)\n",
    "\n",
    "            if plot:\n",
    "                theta = results[\"manipulator\"][\"thetas\"]\n",
    "                phi = results[\"manipulator\"][\"phis\"]\n",
    "                actions = results[\"manipulator\"][\"actions\"]\n",
    "            \n",
    "                plt.subplot(221)\n",
    "                plt.plot(theta, label=str(params[label]))\n",
    "                plt.subplot(223)\n",
    "                plt.plot(phi, label=str(params[label]))\n",
    "                plt.subplot(224)\n",
    "                plt.plot(actions, label=str(params[label]))\n",
    "                plot = False\n",
    "            \n",
    "        rew_avg = np.mean(rew, axis=0)        \n",
    "        n=5\n",
    "        tb_smoothed = np.cumsum(rew_avg, dtype=float)\n",
    "        tb_smoothed[n:] = tb_smoothed[n:] - tb_smoothed[:-n]\n",
    "        tb_smoothed =  tb_smoothed[n - 1:] / n\n",
    "        \n",
    "        plt.subplot(222)\n",
    "        plt.plot(tb_times[(n//2):-(n//2)], tb_smoothed, label=str(params[label]))\n",
    "        \n",
    "\n",
    "\n",
    "    plt.subplot(222)\n",
    "    plt.ylabel(\"reward\")\n",
    "    plt.legend()\n",
    "    plt.subplot(221)\n",
    "    plt.axhline(y=0, color='b', linestyle='--')\n",
    "    plt.ylabel(\"theta\")\n",
    "    plt.legend()\n",
    "    plt.subplot(223)\n",
    "    plt.axhline(y=0, color='b', linestyle='--')\n",
    "    plt.ylabel(\"phi\")\n",
    "    plt.legend()\n",
    "    plt.subplot(224)\n",
    "    plt.axhline(y=0, color='b', linestyle='--')\n",
    "    plt.ylabel(\"actions\")\n",
    "    plt.legend()\n",
    "    plt.show()\n",
    "        \n",
    "plot_eval()"
   ]
  },
  {
   "cell_type": "markdown",
   "id": "72c134cf",
   "metadata": {},
   "source": [
    "### Pendulum"
   ]
  },
  {
   "cell_type": "code",
   "execution_count": null,
   "id": "542697c8",
   "metadata": {},
   "outputs": [],
   "source": [
    "label = \"eps\"\n",
    "\n",
    "def plot_eval():\n",
    "    plt.figure()\n",
    "    trial_id = 0\n",
    "    runs = filt(check, trial_id)\n",
    "    while runs:\n",
    "        rew = []\n",
    "        with open(os.path.join(os.path.join(\"./Runs\", runs[0]), \"params.pkl\"), 'rb') as f:\n",
    "            params = pickle.load(f) \n",
    "        for folder in runs:\n",
    "            results = run_eval.evaluate(folder, env='newpendulum', init=[1, 0])\n",
    "            tb = results[\"newpendulum\"][\"mean_reward\"]\n",
    "            tb_times = tb[0]\n",
    "            tb_rew = [a[0] for a in tb[1]]\n",
    "            \n",
    "            rew.append(tb_rew)\n",
    "\n",
    "            theta = results[\"newpendulum\"][\"thetas\"]\n",
    "            actions = results[\"newpendulum\"][\"actions\"]\n",
    "            \n",
    "            plt.subplot(221)\n",
    "            plt.plot(theta, label=str(params[label]))\n",
    "            plt.subplot(224)\n",
    "            plt.plot(actions, label=str(params[label]))\n",
    "            \n",
    "        rew_avg = np.mean(rew, axis=0)        \n",
    "        n=5\n",
    "        tb_smoothed = np.cumsum(rew_avg, dtype=float)\n",
    "        tb_smoothed[n:] = tb_smoothed[n:] - tb_smoothed[:-n]\n",
    "        tb_smoothed =  tb_smoothed[n - 1:] / n\n",
    "        \n",
    "        plt.subplot(222)\n",
    "        plt.plot(tb_times[(n//2):-(n//2)], tb_smoothed, label=str(params[label]))\n",
    "        #plt.plot(tb_times, rew_avg, label=str(params[label]))\n",
    "        \n",
    "        trial_id += 1\n",
    "        runs = filt(check, trial_id)\n",
    "        \n",
    "\n",
    "\n",
    "    plt.subplot(222)\n",
    "    plt.ylabel(\"reward\")\n",
    "    plt.ylim([-4000, 0])\n",
    "    plt.legend()\n",
    "    plt.subplot(221)\n",
    "    plt.axhline(y=0, color='b', linestyle='--')\n",
    "    plt.ylabel(\"theta\")\n",
    "    plt.legend()\n",
    "    plt.subplot(224)\n",
    "    plt.axhline(y=0, color='b', linestyle='--')\n",
    "    plt.ylabel(\"actions\")\n",
    "    plt.legend()\n",
    "    plt.show()\n",
    "        \n",
    "plot_eval()"
   ]
  },
  {
   "cell_type": "markdown",
   "id": "0b9a1f16",
   "metadata": {},
   "source": [
    "# Rendering Station\n",
    "\n",
    "DON\"T USE YET, BEHAVIOR NOT WORKING"
   ]
  },
  {
   "cell_type": "code",
   "execution_count": 2,
   "id": "fe6e6413",
   "metadata": {},
   "outputs": [
    {
     "name": "stderr",
     "output_type": "stream",
     "text": [
      "/opt/anaconda3/envs/rl/lib/python3.8/site-packages/gym/logger.py:30: UserWarning: \u001b[33mWARN: Box bound precision lowered by casting to float32\u001b[0m\n",
      "  warnings.warn(colorize('%s: %s'%('WARN', msg % args), 'yellow'))\n",
      "2022-03-20 15:00:41.922 python[99162:6383413] Warning: Expected min height of view: (<NSPopoverTouchBarItemButton: 0x7f9457883420>) to be less than or equal to 30 but got a height of 32.000000. This error will be logged once per view in violation.\n",
      "2022-03-20 15:00:41.922 python[99162:6383413] Warning: Expected min height of view: (<NSButton: 0x7f94578c32d0>) to be less than or equal to 30 but got a height of 32.000000. This error will be logged once per view in violation.\n",
      "2022-03-20 15:00:41.924 python[99162:6383413] Warning: Expected min height of view: (<NSPopoverTouchBarItemButton: 0x7f94578b53d0>) to be less than or equal to 30 but got a height of 32.000000. This error will be logged once per view in violation.\n",
      "2022-03-20 15:00:41.925 python[99162:6383413] Warning: Expected min height of view: (<NSPopoverTouchBarItemButton: 0x7f94578c5220>) to be less than or equal to 30 but got a height of 32.000000. This error will be logged once per view in violation.\n"
     ]
    }
   ],
   "source": [
    "folder = '03_19_2022_025744_Mohsin'\n",
    "env_name = 'manipulator'\n",
    "model_name = 'best_model'\n",
    "\n",
    "run_render.render(folder, env_name, model_name)"
   ]
  },
  {
   "cell_type": "code",
   "execution_count": null,
   "id": "ec14a7b7",
   "metadata": {},
   "outputs": [],
   "source": [
    "folder = '03_19_2022_025744_Mohsin'\n",
    "env_name = 'manipulator'\n",
    "model_name = 'best_model'\n",
    "\n",
    "with open(os.path.join(os.path.join(\"./Runs\", folder), \"params.pkl\"), 'rb') as f:\n",
    "    params = pickle.load(f)\n",
    "env = params.envs[env_name].eval_env(params)\n",
    "env.reset()\n",
    "models_path = os.path.join(os.path.join(\"./Runs\", folder), env_name + \"/models\")\n",
    "model = SAC.load(os.path.join(models_path, model_name))\n",
    "\n",
    "obs = env.reset()\n",
    "done = False\n",
    "i = 0\n",
    "while not done:\n",
    "    action, _states = model.predict(obs)\n",
    "    obs, rewards, done, info = env.step(action)\n",
    "    env.render()\n",
    "print(\"hello\")\n",
    "env.close()"
   ]
  }
 ],
 "metadata": {
  "kernelspec": {
   "display_name": "Python 3 (ipykernel)",
   "language": "python",
   "name": "python3"
  },
  "language_info": {
   "codemirror_mode": {
    "name": "ipython",
    "version": 3
   },
   "file_extension": ".py",
   "mimetype": "text/x-python",
   "name": "python",
   "nbconvert_exporter": "python",
   "pygments_lexer": "ipython3",
   "version": "3.8.10"
  }
 },
 "nbformat": 4,
 "nbformat_minor": 5
}

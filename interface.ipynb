{
 "cells": [
  {
   "cell_type": "markdown",
   "id": "16b3d8fc",
   "metadata": {},
   "source": [
    "# Interface"
   ]
  },
  {
   "cell_type": "markdown",
   "id": "301a6df2",
   "metadata": {},
   "source": [
    "This is a python notebook that will let us interact with the our runs and models."
   ]
  },
  {
   "cell_type": "code",
   "execution_count": 39,
   "id": "48bb26ae",
   "metadata": {},
   "outputs": [],
   "source": [
    "%matplotlib inline\n",
    "\n",
    "import os\n",
    "import gym\n",
    "import csv\n",
    "import ast\n",
    "import numpy as np\n",
    "import torch as th\n",
    "from io import StringIO\n",
    "from datetime import datetime\n",
    "import json\n",
    "import pickle\n",
    "\n",
    "from PVTOL_env import PVTOL_env\n",
    "from Base_env import Base_env\n",
    "from Basic_env import Basic_env\n",
    "from Reference_env import Reference_env\n",
    "from RL_env import RL_env\n",
    "\n",
    "from stable_baselines3 import SAC\n",
    "import matplotlib\n",
    "import matplotlib.pyplot as plt\n",
    "from run_learning import run_learning"
   ]
  },
  {
   "cell_type": "code",
   "execution_count": 8,
   "id": "af060c43",
   "metadata": {},
   "outputs": [],
   "source": [
    "def evaluate(model, param_dict, size_dynamic1, size_dynamic2, size_reference1, size_reference2):\n",
    "    \n",
    "    param_dict[\"test\"] = True\n",
    "\n",
    "    param_dict[\"initial_state_dynamic\"] = [size_dynamic1, size_dynamic2]\n",
    "    param_dict[\"initial_state_reference\"] = [size_reference1, size_reference2]\n",
    "\n",
    "    dynamical_env = Base_env(param_dict)\n",
    "    reference_env = Reference_env(param_dict)\n",
    "    test_env = RL_env(dynamical_env, reference_env, param_dict)\n",
    "\n",
    "    obs = test_env.reset()\n",
    "    done = False\n",
    "    while not done:\n",
    "        action, _states = model.predict(obs)\n",
    "        obs, rewards, done, info = test_env.step(action)\n",
    "\n",
    "    learned, desired, zero = test_env.render()\n",
    "    \n",
    "    param_dict[\"test\"] = False\n",
    "    \n",
    "    plot(learned, desired, zero)\n",
    "    \n",
    "def plot(learned, desired, zero):\n",
    "    \n",
    "    fig, axs = plt.subplots(2)\n",
    "\n",
    "    axs[0].plot(learned, label='learned')\n",
    "    axs[0].plot(desired, label='desired')\n",
    "    axs[0].set_title(\"Path\")\n",
    "    axs[0].legend()\n",
    "\n",
    "    axs[1].plot(zero, label=\"zero\")\n",
    "    axs[1].set_title(\"Zero\")\n",
    "\n",
    "    fig.show()"
   ]
  },
  {
   "cell_type": "code",
   "execution_count": 9,
   "id": "775bb798",
   "metadata": {},
   "outputs": [
    {
     "name": "stdout",
     "output_type": "stream",
     "text": [
      "Calibration_test_nonmin_blend_long  :  Testing out new setup running long nonmin system blending weight (1, 1, 0)\n",
      "Calibration_test_nonmin_blend  :  Testing out new setup running nonmin system (b=0.5) blending weight (1, 0.2, 0)\n",
      "Calibration_test_nonmin_input  :  Testing out new setup running nonmin system (b=0.5) only weighting input\n",
      "Calibration_test_min_path  :  Testing out new setup running min system only weighting path\n",
      "Calibration_test_min_input  :  Testing out new setup running nonmin system (b=0.5) only weighting input\n",
      "Calibration_test_min_blend  :  Testing out new setup running min system blending weight (1, 0.2, 0)\n",
      "Calibration_test_min_zero  :  Testing out new setup running min system only weighting zero\n",
      "Calibration_test_nonmin_path  :  Testing out new setup running nonmin system (b=0.5) only weighting path\n",
      "Calibration_test_nonmin_zero  :  Testing out new setup running nonmin system (b=0.5) only weighting zero\n",
      "Calibration_test_nonmin_blend_longer  :  Testing out new setup running longer nonmin system blending weight (1, 1, 0.5)\n"
     ]
    }
   ],
   "source": [
    "for folder in os.listdir(\"./Runs\"):\n",
    "    folder_param_path = os.path.join(os.path.join(\"./Runs\", folder), \"param_dict.pkl\")\n",
    "    if os.path.exists(folder_param_path):\n",
    "        with open(os.path.join(os.path.join(\"./Runs\", folder), \"param_dict.pkl\"), 'rb') as f:\n",
    "            param_dict = pickle.load(f)\n",
    "        print(folder, \" : \", param_dict[\"description\"])"
   ]
  },
  {
   "cell_type": "code",
   "execution_count": 10,
   "id": "139d6023",
   "metadata": {},
   "outputs": [],
   "source": [
    "folder=\"Calibration_test_nonmin_blend_longer\"\n",
    "path=os.path.join(\"./Runs\", folder)"
   ]
  },
  {
   "cell_type": "code",
   "execution_count": 11,
   "id": "ea3bfa2f",
   "metadata": {},
   "outputs": [
    {
     "data": {
      "text/plain": [
       "{'folder': 'Calibration_test_nonmin_blend_longer',\n",
       " 'description': 'Testing out new setup running longer nonmin system blending weight (1, 1, 0.5)',\n",
       " 'dt': 0.1,\n",
       " 'init_low': -3,\n",
       " 'init_high': 3,\n",
       " 'test': False,\n",
       " 'total_time': 10,\n",
       " 'total_timesteps': 10000000,\n",
       " 'cost_weights': [1, 1, 0.5],\n",
       " 'test_sizes': [0.2, 1, 3],\n",
       " 'eps': 0.98,\n",
       " 'b': 0.5,\n",
       " 'action_high': 4,\n",
       " 'action_low': -4,\n",
       " 'initial_state_dynamic': [1, 1],\n",
       " 'internal_matrix': [[0, -1], [1, 0]],\n",
       " 'path_matrix': [0, 1],\n",
       " 'initial_state_reference': [1, 1],\n",
       " 'policy_kwarg': {'activation_fn': torch.nn.modules.activation.Tanh},\n",
       " 'eval_freq': 50000,\n",
       " 'save_freq': 10000,\n",
       " 'gamma': 0.98}"
      ]
     },
     "execution_count": 11,
     "metadata": {},
     "output_type": "execute_result"
    }
   ],
   "source": [
    "with open(os.path.join(path, \"param_dict.pkl\"), 'rb') as f:\n",
    "        param_dict = pickle.load(f)\n",
    "    \n",
    "best_model = SAC.load(os.path.join(path, \"best_model\"))\n",
    "\n",
    "total_timesteps = param_dict['total_timesteps']\n",
    "\n",
    "latest_model = SAC.load(os.path.join(path, \"rl_model_{}_steps\".format(total_timesteps)))\n",
    "\n",
    "param_dict"
   ]
  },
  {
   "cell_type": "code",
   "execution_count": 18,
   "id": "ba11837d",
   "metadata": {},
   "outputs": [
    {
     "name": "stderr",
     "output_type": "stream",
     "text": [
      "/tmp/ipykernel_344190/2407600767.py:36: UserWarning: Matplotlib is currently using module://matplotlib_inline.backend_inline, which is a non-GUI backend, so cannot show the figure.\n",
      "  fig.show()\n"
     ]
    },
    {
     "data": {
      "image/png": "[encoded data removed]",
      "text/plain": [
       "<Figure size 432x288 with 2 Axes>"
      ]
     },
     "metadata": {
      "needs_background": "light"
     },
     "output_type": "display_data"
    }
   ],
   "source": [
    "evaluate(best_model, param_dict, 1, 3, 2, 3.5)"
   ]
  },
  {
   "cell_type": "code",
   "execution_count": 19,
   "id": "7907aafb",
   "metadata": {},
   "outputs": [
    {
     "name": "stderr",
     "output_type": "stream",
     "text": [
      "/tmp/ipykernel_344190/2407600767.py:36: UserWarning: Matplotlib is currently using module://matplotlib_inline.backend_inline, which is a non-GUI backend, so cannot show the figure.\n",
      "  fig.show()\n"
     ]
    },
    {
     "data": {
      "image/png": "[encoded data removed]",
      "text/plain": [
       "<Figure size 432x288 with 2 Axes>"
      ]
     },
     "metadata": {
      "needs_background": "light"
     },
     "output_type": "display_data"
    }
   ],
   "source": [
    "evaluate(latest_model, param_dict, 1, 1, 1, 1)"
   ]
  },
  {
   "cell_type": "markdown",
   "id": "174fba8b",
   "metadata": {},
   "source": [
    "# PVTOL"
   ]
  },
  {
   "cell_type": "code",
   "execution_count": 40,
   "id": "3d03ae98",
   "metadata": {},
   "outputs": [],
   "source": [
    "def evaluate(model, param_dict, size_dynamic1, size_dynamic2, size_reference1, size_reference2):\n",
    "    \n",
    "    param_dict[\"test\"] = True\n",
    "\n",
    "    param_dict[\"initial_state_dynamic\"] = [size_dynamic1, size_dynamic2, size_dynamic1, size_dynamic1, size_dynamic1, size_dynamic1]\n",
    "    param_dict[\"initial_state_reference\"] = [size_reference1, size_reference2]\n",
    "\n",
    "    dynamical_env = PVTOL_env(param_dict)\n",
    "    reference_env = Reference_env(param_dict)\n",
    "    test_env = RL_env(dynamical_env, reference_env, param_dict)\n",
    "\n",
    "    obs = test_env.reset()\n",
    "    done = False\n",
    "    while not done:\n",
    "        action, _states = model.predict(obs)\n",
    "        obs, rewards, done, info = test_env.step(action)\n",
    "\n",
    "    learned, desired, zero = test_env.render()\n",
    "    \n",
    "    param_dict[\"test\"] = False\n",
    "    \n",
    "    plot(learned, desired, zero)\n",
    "    \n",
    "def plot(learned, desired, zero):\n",
    "    \n",
    "    fig, axs = plt.subplots(2)\n",
    "\n",
    "    axs[0].plot([i[0] for i in learned], [i[1] for i in learned], label='learned')\n",
    "    axs[0].plot([i[0] for i in desired], [i[1] for i in desired], label='desired')\n",
    "    axs[0].set_title(\"Path\")\n",
    "    axs[0].legend()\n",
    "\n",
    "    axs[1].plot(zero, label=\"zero\")\n",
    "    axs[1].set_title(\"Zero\")\n",
    "\n",
    "    fig.show()"
   ]
  },
  {
   "cell_type": "code",
   "execution_count": 41,
   "id": "5de77852",
   "metadata": {},
   "outputs": [
    {
     "name": "stdout",
     "output_type": "stream",
     "text": [
      "Calibration_test_nonmin_blend_long  :  Testing out new setup running long nonmin system blending weight (1, 1, 0)\n",
      "Calibration_test_nonmin_blend  :  Testing out new setup running nonmin system (b=0.5) blending weight (1, 0.2, 0)\n",
      "Calibration_test_nonmin_input  :  Testing out new setup running nonmin system (b=0.5) only weighting input\n",
      "Calibration_test_min_path  :  Testing out new setup running min system only weighting path\n",
      "PVTOL_first  :  Testing out PVTOL Setup\n",
      "Calibration_test_min_input  :  Testing out new setup running nonmin system (b=0.5) only weighting input\n",
      "Calibration_test_min_blend  :  Testing out new setup running min system blending weight (1, 0.2, 0)\n",
      "Calibration_test_min_zero  :  Testing out new setup running min system only weighting zero\n",
      "Calibration_test_nonmin_path  :  Testing out new setup running nonmin system (b=0.5) only weighting path\n",
      "PVTOL_1M_Path_only  :  Testing out PVTOL Setup 1M timesteps weighting only path\n",
      "Calibration_test_nonmin_zero  :  Testing out new setup running nonmin system (b=0.5) only weighting zero\n",
      "Calibration_test_nonmin_blend_longer  :  Testing out new setup running longer nonmin system blending weight (1, 1, 0.5)\n"
     ]
    }
   ],
   "source": [
    "for folder in os.listdir(\"./Runs\"):\n",
    "    folder_param_path = os.path.join(os.path.join(\"./Runs\", folder), \"param_dict.pkl\")\n",
    "    if os.path.exists(folder_param_path):\n",
    "        with open(os.path.join(os.path.join(\"./Runs\", folder), \"param_dict.pkl\"), 'rb') as f:\n",
    "            param_dict = pickle.load(f)\n",
    "        print(folder, \" : \", param_dict[\"description\"])"
   ]
  },
  {
   "cell_type": "code",
   "execution_count": 42,
   "id": "00c9c85c",
   "metadata": {},
   "outputs": [],
   "source": [
    "folder=\"PVTOL_1M_Path_only\"\n",
    "path=os.path.join(\"./Runs\", folder)"
   ]
  },
  {
   "cell_type": "code",
   "execution_count": 43,
   "id": "7264819f",
   "metadata": {},
   "outputs": [
    {
     "data": {
      "text/plain": [
       "{'folder': 'PVTOL_1M_Path_only',\n",
       " 'description': 'Testing out PVTOL Setup 1M timesteps weighting only path',\n",
       " 'dt': 0.1,\n",
       " 'init_low': -5,\n",
       " 'init_high': 5,\n",
       " 'test': False,\n",
       " 'total_time': 5,\n",
       " 'total_timesteps': 1000000,\n",
       " 'cost_weights': [1, 0, 0],\n",
       " 'test_sizes': [0.2, 1, 3],\n",
       " 'eps': 0.98,\n",
       " 'b': 0.5,\n",
       " 'action_high': 6,\n",
       " 'action_low': -6,\n",
       " 'initial_state_dynamic': [1, 1],\n",
       " 'internal_matrix': [[0, -1], [1, 0]],\n",
       " 'path_matrix': [[1, 0], [0, 1]],\n",
       " 'initial_state_reference': [1, 1],\n",
       " 'policy_kwarg': {'activation_fn': torch.nn.modules.activation.Tanh},\n",
       " 'eval_freq': 50000,\n",
       " 'save_freq': 10000,\n",
       " 'gamma': 0.98}"
      ]
     },
     "execution_count": 43,
     "metadata": {},
     "output_type": "execute_result"
    }
   ],
   "source": [
    "with open(os.path.join(path, \"param_dict.pkl\"), 'rb') as f:\n",
    "        param_dict = pickle.load(f)\n",
    "    \n",
    "#best_model = SAC.load(os.path.join(path, \"best_model\"))\n",
    "\n",
    "total_timesteps = param_dict['total_timesteps']\n",
    "\n",
    "latest_model = SAC.load(os.path.join(path, \"rl_model_{}_steps\".format(total_timesteps)))\n",
    "\n",
    "param_dict"
   ]
  },
  {
   "cell_type": "code",
   "execution_count": 44,
   "id": "52027503",
   "metadata": {},
   "outputs": [
    {
     "name": "stderr",
     "output_type": "stream",
     "text": [
      "/tmp/ipykernel_373616/3805306478.py:36: UserWarning: Matplotlib is currently using module://matplotlib_inline.backend_inline, which is a non-GUI backend, so cannot show the figure.\n",
      "  fig.show()\n"
     ]
    },
    {
     "data": {
      "image/png": "[encoded data removed]",
      "text/plain": [
       "<Figure size 432x288 with 2 Axes>"
      ]
     },
     "metadata": {
      "needs_background": "light"
     },
     "output_type": "display_data"
    }
   ],
   "source": [
    "evaluate(latest_model, param_dict, 0, 0, 1, 1)"
   ]
  },
  {
   "cell_type": "code",
   "execution_count": null,
   "id": "f692fabf",
   "metadata": {},
   "outputs": [],
   "source": []
  },
  {
   "cell_type": "code",
   "execution_count": null,
   "id": "c87590db",
   "metadata": {},
   "outputs": [],
   "source": []
  },
  {
   "cell_type": "code",
   "execution_count": null,
   "id": "5166c39f",
   "metadata": {},
   "outputs": [],
   "source": []
  }
 ],
 "metadata": {
  "kernelspec": {
   "display_name": "Python 3 (ipykernel)",
   "language": "python",
   "name": "python3"
  },
  "language_info": {
   "codemirror_mode": {
    "name": "ipython",
    "version": 3
   },
   "file_extension": ".py",
   "mimetype": "text/x-python",
   "name": "python",
   "nbconvert_exporter": "python",
   "pygments_lexer": "ipython3",
   "version": "3.8.10"
  }
 },
 "nbformat": 4,
 "nbformat_minor": 5
}

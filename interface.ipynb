{
 "cells": [
  {
   "cell_type": "markdown",
   "id": "16b3d8fc",
   "metadata": {},
   "source": [
    "# Interface"
   ]
  },
  {
   "cell_type": "markdown",
   "id": "301a6df2",
   "metadata": {},
   "source": [
    "This is a python notebook that will let us interact with the our runs and models."
   ]
  },
  {
   "cell_type": "code",
   "execution_count": 5,
   "id": "48bb26ae",
   "metadata": {},
   "outputs": [
    {
     "ename": "ModuleNotFoundError",
     "evalue": "No module named 'stable_baselines3'",
     "output_type": "error",
     "traceback": [
      "\u001b[0;31m---------------------------------------------------------------------------\u001b[0m",
      "\u001b[0;31mModuleNotFoundError\u001b[0m                       Traceback (most recent call last)",
      "\u001b[0;32m/var/folders/dj/jsj9mwyn3nn1b4y6q8rmphmm0000gp/T/ipykernel_8342/4038589350.py\u001b[0m in \u001b[0;36m<module>\u001b[0;34m\u001b[0m\n\u001b[1;32m     19\u001b[0m \u001b[0;32mfrom\u001b[0m \u001b[0mRL_env\u001b[0m \u001b[0;32mimport\u001b[0m \u001b[0mRL_env\u001b[0m\u001b[0;34m\u001b[0m\u001b[0;34m\u001b[0m\u001b[0m\n\u001b[1;32m     20\u001b[0m \u001b[0;34m\u001b[0m\u001b[0m\n\u001b[0;32m---> 21\u001b[0;31m \u001b[0;32mfrom\u001b[0m \u001b[0mstable_baselines3\u001b[0m \u001b[0;32mimport\u001b[0m \u001b[0mSAC\u001b[0m\u001b[0;34m\u001b[0m\u001b[0;34m\u001b[0m\u001b[0m\n\u001b[0m\u001b[1;32m     22\u001b[0m \u001b[0;32mfrom\u001b[0m \u001b[0mstable_baselines3\u001b[0m\u001b[0;34m.\u001b[0m\u001b[0msac\u001b[0m \u001b[0;32mimport\u001b[0m \u001b[0mMlpPolicy\u001b[0m\u001b[0;34m\u001b[0m\u001b[0;34m\u001b[0m\u001b[0m\n\u001b[1;32m     23\u001b[0m \u001b[0;32mfrom\u001b[0m \u001b[0mstable_baselines3\u001b[0m\u001b[0;34m.\u001b[0m\u001b[0mcommon\u001b[0m\u001b[0;34m.\u001b[0m\u001b[0mvec_env\u001b[0m \u001b[0;32mimport\u001b[0m \u001b[0mDummyVecEnv\u001b[0m\u001b[0;34m\u001b[0m\u001b[0;34m\u001b[0m\u001b[0m\n",
      "\u001b[0;31mModuleNotFoundError\u001b[0m: No module named 'stable_baselines3'"
     ]
    }
   ],
   "source": [
    "import numpy as np\n",
    "import gym\n",
    "import time\n",
    "import matplotlib\n",
    "import matplotlib.pyplot as plt\n",
    "#from run_learning import run_learning\n",
    "\n",
    "import os\n",
    "import gym\n",
    "import csv\n",
    "import numpy as np\n",
    "#import torch as th\n",
    "from io import StringIO\n",
    "from datetime import datetime\n",
    "import json\n",
    "\n",
    "from Base_env import Base_env\n",
    "from Reference_env import Reference_env\n",
    "from RL_env import RL_env\n",
    "\n",
    "from stable_baselines3 import SAC\n",
    "from stable_baselines3.sac import MlpPolicy\n",
    "from stable_baselines3.common.vec_env import DummyVecEnv\n",
    "from stable_baselines3.common.logger import configure\n",
    "\n",
    "from stable_baselines3.common.callbacks import EvalCallback\n",
    "from stable_baselines3.common.callbacks import CheckpointCallback"
   ]
  },
  {
   "cell_type": "code",
   "execution_count": null,
   "id": "139d6023",
   "metadata": {},
   "outputs": [],
   "source": [
    "def evaluate(model, env):\n",
    "    \n",
    "    for k in range(3):\n",
    "        size = param_dict[\"test_sizes\"][k] \n",
    "\n",
    "        param_dict[\"initial_state\"] = [size, size, 0, 0]\n",
    "\n",
    "        test_dynamical_env = Base_env(param_dict)\n",
    "        test_reference_env = Reference_env(param_dict)\n",
    "        test_env = RL_env(test_dynamical_env, test_reference_env, param_dict, path)\n",
    "\n",
    "        obs = test_env.reset()\n",
    "        done = False\n",
    "        while not done:\n",
    "            action, _states = best_model.predict(obs)\n",
    "            obs, rewards, done, info = test_env.step(action)\n",
    "\n",
    "        file = open(os.path.join(path, \"results{}.txt\".format(size)), \"w\")\n",
    "\n",
    "        learned, desired, zero = test_env.render()\n",
    "\n",
    "        file.write(\"learned: \" + str(learned) + \"\\n\")\n",
    "        file.write(\"desired: \" + str(desired) + \"\\n\")\n",
    "        file.write(\"zero: \" + str(zero))\n",
    "\n",
    "        file.close()\n",
    "\n",
    "        ax[2*i, 3*j + k].plot(learned, label='learned')\n",
    "        ax[2*i, 3*j + k].plot(desired, label='desired')\n",
    "        ax[2*i, 3*j + k].set_title(\"{}_{}\".format(param_2, size))\n",
    "        ax[2*i, 3*j + k].legend()\n",
    "\n",
    "        ax[2*i + 1, 3*j + k].plot(zero)\n",
    "        ax[2*i + 1, 3*j + k].set_title(\"{}_{} zero\".format(param_2, size))"
   ]
  },
  {
   "cell_type": "code",
   "execution_count": 4,
   "id": "ea3bfa2f",
   "metadata": {},
   "outputs": [
    {
     "ename": "NameError",
     "evalue": "name 'SAC' is not defined",
     "output_type": "error",
     "traceback": [
      "\u001b[0;31m---------------------------------------------------------------------------\u001b[0m",
      "\u001b[0;31mNameError\u001b[0m                                 Traceback (most recent call last)",
      "\u001b[0;32m/var/folders/dj/jsj9mwyn3nn1b4y6q8rmphmm0000gp/T/ipykernel_8342/1607650527.py\u001b[0m in \u001b[0;36m<module>\u001b[0;34m\u001b[0m\n\u001b[1;32m      1\u001b[0m \u001b[0mpath\u001b[0m\u001b[0;34m=\u001b[0m\u001b[0;34m\"./Run_Test_track\"\u001b[0m\u001b[0;34m\u001b[0m\u001b[0;34m\u001b[0m\u001b[0m\n\u001b[1;32m      2\u001b[0m \u001b[0;34m\u001b[0m\u001b[0m\n\u001b[0;32m----> 3\u001b[0;31m \u001b[0mbest_model\u001b[0m \u001b[0;34m=\u001b[0m \u001b[0mSAC\u001b[0m\u001b[0;34m.\u001b[0m\u001b[0mload\u001b[0m\u001b[0;34m(\u001b[0m\u001b[0mos\u001b[0m\u001b[0;34m.\u001b[0m\u001b[0mpath\u001b[0m\u001b[0;34m.\u001b[0m\u001b[0mjoin\u001b[0m\u001b[0;34m(\u001b[0m\u001b[0mpath\u001b[0m\u001b[0;34m,\u001b[0m \u001b[0;34m\"best_model\"\u001b[0m\u001b[0;34m)\u001b[0m\u001b[0;34m)\u001b[0m\u001b[0;34m\u001b[0m\u001b[0;34m\u001b[0m\u001b[0m\n\u001b[0m",
      "\u001b[0;31mNameError\u001b[0m: name 'SAC' is not defined"
     ]
    }
   ],
   "source": [
    "path=\"./Run_Test_track\"\n",
    "\n",
    "best_model = SAC.load(os.path.join(path, \"best_model\"))"
   ]
  },
  {
   "cell_type": "code",
   "execution_count": null,
   "id": "ba11837d",
   "metadata": {},
   "outputs": [],
   "source": []
  }
 ],
 "metadata": {
  "kernelspec": {
   "display_name": "Python 3 (ipykernel)",
   "language": "python",
   "name": "python3"
  },
  "language_info": {
   "codemirror_mode": {
    "name": "ipython",
    "version": 3
   },
   "file_extension": ".py",
   "mimetype": "text/x-python",
   "name": "python",
   "nbconvert_exporter": "python",
   "pygments_lexer": "ipython3",
   "version": "3.9.2"
  }
 },
 "nbformat": 4,
 "nbformat_minor": 5
}

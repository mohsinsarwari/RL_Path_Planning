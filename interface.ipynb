{
 "cells": [
  {
   "cell_type": "markdown",
   "id": "16b3d8fc",
   "metadata": {},
   "source": [
    "# Interface"
   ]
  },
  {
   "cell_type": "markdown",
   "id": "301a6df2",
   "metadata": {},
   "source": [
    "This is a python notebook that will let us interact with the our runs and models."
   ]
  },
  {
   "cell_type": "code",
   "execution_count": 7,
   "id": "48bb26ae",
   "metadata": {},
   "outputs": [],
   "source": [
    "import os\n",
    "import gym\n",
    "import csv\n",
    "import ast\n",
    "import numpy as np\n",
    "import torch as th\n",
    "from io import StringIO\n",
    "from datetime import datetime\n",
    "import json\n",
    "\n",
    "from Base_env import Base_env\n",
    "from Reference_env import Reference_env\n",
    "from RL_env import RL_env\n",
    "\n",
    "from stable_baselines3 import SAC\n",
    "import matplotlib\n",
    "import matplotlib.pyplot as plt\n",
    "from run_learning import run_learning\n",
    "\n",
    "def evaluate(model, param_dict, size):\n",
    "    \n",
    "    param_dict[\"test\"] = True\n",
    "\n",
    "    param_dict[\"initial_state\"] = [size, size, 0, 0]\n",
    "\n",
    "    test_dynamical_env = Base_env(param_dict)\n",
    "    test_reference_env = Reference_env(param_dict)\n",
    "    test_env = RL_env(test_dynamical_env, test_reference_env, param_dict, path)\n",
    "\n",
    "    obs = test_env.reset()\n",
    "    done = False\n",
    "    while not done:\n",
    "        action, _states = model.predict(obs)\n",
    "        obs, rewards, done, info = test_env.step(action)\n",
    "\n",
    "    learned, desired, zero = test_env.render()\n",
    "    \n",
    "    param_dict[\"test\"] = False\n",
    "    \n",
    "    fig, axs = plt.subplots(2)\n",
    "\n",
    "    axs[0].plot(learned, label='learned')\n",
    "    axs[0].plot(desired, label='desired')\n",
    "    axs[0].title(\"Amplitude: {}\".format(size))\n",
    "    axs[0].legend()\n",
    "\n",
    "    axs[1].plot(zero, label=\"zero\")\n",
    "    axs[1].title(\"Amplitude: {} - Zero\".format(size))\n",
    "\n",
    "    fig.show()"
   ]
  },
  {
   "cell_type": "code",
   "execution_count": 8,
   "id": "139d6023",
   "metadata": {},
   "outputs": [],
   "source": [
    "path=\"./Run_Test_slight_zero\""
   ]
  },
  {
   "cell_type": "code",
   "execution_count": 14,
   "id": "ea3bfa2f",
   "metadata": {},
   "outputs": [
    {
     "data": {
      "text/plain": [
       "{'dt': '0.1',\n",
       " 'init_low': '-10',\n",
       " 'init_high': '10',\n",
       " 'test': 'False',\n",
       " 'total_time': '10',\n",
       " 'total_timesteps': '1000000',\n",
       " 'cost_weights': '[1, 0.2, 0]',\n",
       " 'test_sizes': '[0.2, 1, 3]',\n",
       " 'b': '-2',\n",
       " 'action_high': '10',\n",
       " 'action_low': '-10',\n",
       " 'internal_matrix': '[[0, -1], [1, 0]]',\n",
       " 'path_matrix': '[0, 1]',\n",
       " 'policy_kwarg': \"{'activation_fn': <class 'torch.nn.modules.activation.Tanh'>}\",\n",
       " 'eval_freq': '50000',\n",
       " 'save_freq': '100000',\n",
       " 'gamma': '0.98'}"
      ]
     },
     "execution_count": 14,
     "metadata": {},
     "output_type": "execute_result"
    }
   ],
   "source": [
    "with open(os.path.join(path, \"param_save.csv\"), newline='') as csvfile:\n",
    "    reader = csv.DictReader(csvfile)\n",
    "    param_dict = next(reader)\n",
    "    \n",
    "for key in param_dict.keys():\n",
    "    param_dict[key] = ast.literal_eval(param_dict[key])\n",
    "    \n",
    "best_model = SAC.load(os.path.join(path, \"best_model\"))\n",
    "\n",
    "total_timesteps = param_dict['total_timesteps']\n",
    "\n",
    "latest_model = SAC.load(os.path.join(path, \"rl_model_{}_steps\".format(total_timesteps)))\n",
    "\n",
    "param_dict"
   ]
  },
  {
   "cell_type": "code",
   "execution_count": 12,
   "id": "ba11837d",
   "metadata": {},
   "outputs": [
    {
     "ename": "TypeError",
     "evalue": "unsupported operand type(s) for //: 'str' and 'str'",
     "output_type": "error",
     "traceback": [
      "\u001b[0;31m---------------------------------------------------------------------------\u001b[0m",
      "\u001b[0;31mTypeError\u001b[0m                                 Traceback (most recent call last)",
      "\u001b[0;32m/tmp/ipykernel_146949/1884638077.py\u001b[0m in \u001b[0;36m<module>\u001b[0;34m\u001b[0m\n\u001b[0;32m----> 1\u001b[0;31m \u001b[0mevaluate\u001b[0m\u001b[0;34m(\u001b[0m\u001b[0mlatest_model\u001b[0m\u001b[0;34m,\u001b[0m \u001b[0mparam_dict\u001b[0m\u001b[0;34m,\u001b[0m \u001b[0;36m3\u001b[0m\u001b[0;34m)\u001b[0m\u001b[0;34m\u001b[0m\u001b[0;34m\u001b[0m\u001b[0m\n\u001b[0m",
      "\u001b[0;32m/tmp/ipykernel_146949/3918224346.py\u001b[0m in \u001b[0;36mevaluate\u001b[0;34m(model, param_dict, size)\u001b[0m\n\u001b[1;32m     25\u001b[0m     \u001b[0mtest_dynamical_env\u001b[0m \u001b[0;34m=\u001b[0m \u001b[0mBase_env\u001b[0m\u001b[0;34m(\u001b[0m\u001b[0mparam_dict\u001b[0m\u001b[0;34m)\u001b[0m\u001b[0;34m\u001b[0m\u001b[0;34m\u001b[0m\u001b[0m\n\u001b[1;32m     26\u001b[0m     \u001b[0mtest_reference_env\u001b[0m \u001b[0;34m=\u001b[0m \u001b[0mReference_env\u001b[0m\u001b[0;34m(\u001b[0m\u001b[0mparam_dict\u001b[0m\u001b[0;34m)\u001b[0m\u001b[0;34m\u001b[0m\u001b[0;34m\u001b[0m\u001b[0m\n\u001b[0;32m---> 27\u001b[0;31m     \u001b[0mtest_env\u001b[0m \u001b[0;34m=\u001b[0m \u001b[0mRL_env\u001b[0m\u001b[0;34m(\u001b[0m\u001b[0mtest_dynamical_env\u001b[0m\u001b[0;34m,\u001b[0m \u001b[0mtest_reference_env\u001b[0m\u001b[0;34m,\u001b[0m \u001b[0mparam_dict\u001b[0m\u001b[0;34m,\u001b[0m \u001b[0mpath\u001b[0m\u001b[0;34m)\u001b[0m\u001b[0;34m\u001b[0m\u001b[0;34m\u001b[0m\u001b[0m\n\u001b[0m\u001b[1;32m     28\u001b[0m \u001b[0;34m\u001b[0m\u001b[0m\n\u001b[1;32m     29\u001b[0m     \u001b[0mobs\u001b[0m \u001b[0;34m=\u001b[0m \u001b[0mtest_env\u001b[0m\u001b[0;34m.\u001b[0m\u001b[0mreset\u001b[0m\u001b[0;34m(\u001b[0m\u001b[0;34m)\u001b[0m\u001b[0;34m\u001b[0m\u001b[0;34m\u001b[0m\u001b[0m\n",
      "\u001b[0;32m~/research/RL_Path_Planning/RL_env.py\u001b[0m in \u001b[0;36m__init__\u001b[0;34m(self, dynamical_sys, reference_sys, param_dict, log_path)\u001b[0m\n\u001b[1;32m     44\u001b[0m \u001b[0;34m\u001b[0m\u001b[0m\n\u001b[1;32m     45\u001b[0m     \u001b[0mself\u001b[0m\u001b[0;34m.\u001b[0m\u001b[0mcurr_step\u001b[0m \u001b[0;34m=\u001b[0m \u001b[0;36m0\u001b[0m\u001b[0;34m\u001b[0m\u001b[0;34m\u001b[0m\u001b[0m\n\u001b[0;32m---> 46\u001b[0;31m     \u001b[0mself\u001b[0m\u001b[0;34m.\u001b[0m\u001b[0mnum_steps\u001b[0m \u001b[0;34m=\u001b[0m \u001b[0mint\u001b[0m\u001b[0;34m(\u001b[0m\u001b[0mself\u001b[0m\u001b[0;34m.\u001b[0m\u001b[0mparam_dict\u001b[0m\u001b[0;34m[\u001b[0m\u001b[0;34m\"total_time\"\u001b[0m\u001b[0;34m]\u001b[0m \u001b[0;34m//\u001b[0m \u001b[0mself\u001b[0m\u001b[0;34m.\u001b[0m\u001b[0mparam_dict\u001b[0m\u001b[0;34m[\u001b[0m\u001b[0;34m\"dt\"\u001b[0m\u001b[0;34m]\u001b[0m\u001b[0;34m)\u001b[0m\u001b[0;34m\u001b[0m\u001b[0;34m\u001b[0m\u001b[0m\n\u001b[0m\u001b[1;32m     47\u001b[0m \u001b[0;34m\u001b[0m\u001b[0m\n\u001b[1;32m     48\u001b[0m     \u001b[0mself\u001b[0m\u001b[0;34m.\u001b[0m\u001b[0mdone\u001b[0m \u001b[0;34m=\u001b[0m \u001b[0;32mFalse\u001b[0m\u001b[0;34m\u001b[0m\u001b[0;34m\u001b[0m\u001b[0m\n",
      "\u001b[0;31mTypeError\u001b[0m: unsupported operand type(s) for //: 'str' and 'str'"
     ]
    }
   ],
   "source": [
    "evaluate(latest_model, param_dict, 3)"
   ]
  },
  {
   "cell_type": "code",
   "execution_count": 11,
   "id": "7907aafb",
   "metadata": {},
   "outputs": [
    {
     "data": {
      "image/png": "[encoded data removed]",
      "text/plain": [
       "<Figure size 432x288 with 1 Axes>"
      ]
     },
     "metadata": {
      "needs_background": "light"
     },
     "output_type": "display_data"
    }
   ],
   "source": [
    "evaluate(best_model, param_dict, 8)"
   ]
  },
  {
   "cell_type": "code",
   "execution_count": null,
   "id": "949ae6dc",
   "metadata": {},
   "outputs": [],
   "source": []
  }
 ],
 "metadata": {
  "kernelspec": {
   "display_name": "Python 3 (ipykernel)",
   "language": "python",
   "name": "python3"
  },
  "language_info": {
   "codemirror_mode": {
    "name": "ipython",
    "version": 3
   },
   "file_extension": ".py",
   "mimetype": "text/x-python",
   "name": "python",
   "nbconvert_exporter": "python",
   "pygments_lexer": "ipython3",
   "version": "3.9.2"
  }
 },
 "nbformat": 4,
 "nbformat_minor": 5
}
